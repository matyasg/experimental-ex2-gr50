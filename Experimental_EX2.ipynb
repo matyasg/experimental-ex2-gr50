{
  "cells": [
    {
      "cell_type": "markdown",
      "source": [
        "You need to download the dataset from Kaggle: https://www.kaggle.com/lastsummer/ipinyou/"
      ],
      "metadata": {
        "id": "n5rlcs5mYZ9O"
      }
    },
    {
      "cell_type": "code",
      "source": [
        "!git clone https://github.com/Atomu2014/make-ipinyou-data"
      ],
      "metadata": {
        "colab": {
          "base_uri": "https://localhost:8080/"
        },
        "id": "KJBdyRqTYey_",
        "outputId": "d5bfd469-631b-4ce6-d347-96f3871fa818"
      },
      "execution_count": null,
      "outputs": [
        {
          "output_type": "stream",
          "name": "stdout",
          "text": [
            "Cloning into 'make-ipinyou-data'...\n",
            "remote: Enumerating objects: 114, done.\u001b[K\n",
            "remote: Total 114 (delta 0), reused 0 (delta 0), pack-reused 114\u001b[K\n",
            "Receiving objects: 100% (114/114), 22.77 KiB | 7.59 MiB/s, done.\n",
            "Resolving deltas: 100% (62/62), done.\n"
          ]
        }
      ]
    },
    {
      "cell_type": "markdown",
      "source": [
        "You have to do the steps described in the make-ipinyou-data/README.md file to produce the correct data for training and testing."
      ],
      "metadata": {
        "id": "RCG4CCiBYfhI"
      }
    },
    {
      "cell_type": "code",
      "source": [
        "!pip2 install tensorflow==1.13.2"
      ],
      "metadata": {
        "id": "lwCfC3rAe9GC"
      },
      "execution_count": null,
      "outputs": []
    },
    {
      "cell_type": "code",
      "execution_count": null,
      "metadata": {
        "colab": {
          "base_uri": "https://localhost:8080/"
        },
        "id": "7yW5z3fRuezs",
        "outputId": "e3eab6c2-5b76-43c0-f396-b85a8f5139c9"
      },
      "outputs": [
        {
          "output_type": "stream",
          "name": "stdout",
          "text": [
            "Cloning into 'product-nets-distributed'...\n",
            "remote: Enumerating objects: 370, done.\u001b[K\n",
            "remote: Total 370 (delta 0), reused 0 (delta 0), pack-reused 370\u001b[K\n",
            "Receiving objects: 100% (370/370), 106.92 KiB | 1004.00 KiB/s, done.\n",
            "Resolving deltas: 100% (258/258), done.\n"
          ]
        }
      ],
      "source": [
        "! git clone https://github.com/Atomu2014/product-nets-distributed.git"
      ]
    },
    {
      "cell_type": "code",
      "execution_count": null,
      "metadata": {
        "colab": {
          "base_uri": "https://localhost:8080/"
        },
        "id": "ScQDmHjxzi29",
        "outputId": "7a37aa3a-1d38-45f4-87b9-118a94b8ee84"
      },
      "outputs": [
        {
          "output_type": "stream",
          "name": "stdout",
          "text": [
            "Cloning into 'Ads-RecSys-Datasets'...\n",
            "remote: Enumerating objects: 224, done.\u001b[K\n",
            "remote: Counting objects: 100% (3/3), done.\u001b[K\n",
            "remote: Compressing objects: 100% (3/3), done.\u001b[K\n",
            "remote: Total 224 (delta 0), reused 0 (delta 0), pack-reused 221\u001b[K\n",
            "Receiving objects: 100% (224/224), 58.87 KiB | 1.55 MiB/s, done.\n",
            "Resolving deltas: 100% (144/144), done.\n"
          ]
        }
      ],
      "source": [
        "!git clone https://github.com/matyasg/Ads-RecSys-Datasets.git"
      ]
    },
    {
      "cell_type": "code",
      "execution_count": null,
      "metadata": {
        "colab": {
          "base_uri": "https://localhost:8080/"
        },
        "id": "3eLbmLMvE6py",
        "outputId": "8392a5d5-eed6-4879-dc95-c62e534321e9"
      },
      "outputs": [
        {
          "output_type": "stream",
          "name": "stdout",
          "text": [
            "Cloning into 'deep-ctr'...\n",
            "remote: Enumerating objects: 57, done.\u001b[K\n",
            "remote: Counting objects: 100% (4/4), done.\u001b[K\n",
            "remote: Compressing objects: 100% (4/4), done.\u001b[K\n",
            "remote: Total 57 (delta 0), reused 0 (delta 0), pack-reused 53\u001b[K\n",
            "Unpacking objects: 100% (57/57), done.\n"
          ]
        }
      ],
      "source": [
        "!git clone https://github.com/matyasg/deep-ctr.git"
      ]
    },
    {
      "cell_type": "code",
      "execution_count": null,
      "metadata": {
        "id": "pNozROul1fcR"
      },
      "outputs": [],
      "source": [
        "! cp -r Ads-RecSys-Datasets/datasets product-nets-distributed/pnn/datasets"
      ]
    },
    {
      "cell_type": "markdown",
      "source": [
        "In the following, I will use the 1458 advertiser for an example."
      ],
      "metadata": {
        "id": "7b2_QzCdY9B0"
      }
    },
    {
      "cell_type": "code",
      "execution_count": null,
      "metadata": {
        "id": "mCPs4UqUZ0UN",
        "colab": {
          "base_uri": "https://localhost:8080/"
        },
        "outputId": "ebfce164-d4b3-48c0-abd9-66fe27ef7f4b"
      },
      "outputs": [
        {
          "output_type": "stream",
          "name": "stdout",
          "text": [
            "cp: cannot stat 'drive/MyDrive/DataScience/Experimental_EX2/2297': No such file or directory\n",
            "mkdir: cannot create directory ‘/content/product-nets-distributed/pnn/2259/hdf’: File exists\n",
            "mkdir: cannot create directory ‘/content/product-nets-distributed/pnn/2259/raw’: File exists\n",
            "mkdir: cannot create directory ‘/content/product-nets-distributed/pnn/2259/feature’: File exists\n",
            "mkdir: cannot create directory ‘/content/product-nets-distributed/pnn/2297/hdf’: No such file or directory\n",
            "mkdir: cannot create directory ‘/content/product-nets-distributed/pnn/2297/raw’: No such file or directory\n",
            "mkdir: cannot create directory ‘/content/product-nets-distributed/pnn/2297/feature’: No such file or directory\n"
          ]
        }
      ],
      "source": [
        "!cp -r make-ipinyou-data/1458 /content/product-nets-distributed/pnn/1458\n",
        "\n",
        "!mkdir /content/product-nets-distributed/pnn/1458/hdf\n",
        "!mkdir /content/product-nets-distributed/pnn/1458/raw\n",
        "!mkdir /content/product-nets-distributed/pnn/1458/feature"
      ]
    },
    {
      "cell_type": "code",
      "source": [
        "!cp /content/product-nets-distributed/pnn/1458/train.txt /content/product-nets-distributed/pnn/1458/raw/train.txt\n",
        "!cp /content/product-nets-distributed/pnn/1458/test.txt /content/product-nets-distributed/pnn/1458/raw/test.txt"
      ],
      "metadata": {
        "colab": {
          "base_uri": "https://localhost:8080/"
        },
        "id": "smj-Xz-mecwY",
        "outputId": "9014e84b-a17e-4c6d-a03f-4f9e6c5b0535"
      },
      "execution_count": null,
      "outputs": [
        {
          "output_type": "stream",
          "name": "stdout",
          "text": [
            "cp: cannot stat '/content/product-nets-distributed/pnn/1458/train.txt': No such file or directory\n",
            "cp: cannot stat '/content/product-nets-distributed/pnn/1458/test.txt': No such file or directory\n",
            "cp: cannot stat '/content/product-nets-distributed/pnn/2297/train.txt': No such file or directory\n",
            "cp: cannot stat '/content/product-nets-distributed/pnn/2297/test.txt': No such file or directory\n"
          ]
        }
      ]
    },
    {
      "cell_type": "markdown",
      "source": [
        "The next 3 cell run the LR, FM and FNN models with the given parameters. In order to run it without any error and with the correct data path and with other advertisers as well, you have to edit the product-nets-distributed/pnn/datasets/iPinYou.py file, in the end of the line 30, you can define the data path, change '1458' for the used advertiser folder name. (In order to use preprocessed hdf files instead of raw files, you have to change the self.initialized value to True.)"
      ],
      "metadata": {
        "id": "bbAsCLBqZeik"
      }
    },
    {
      "cell_type": "code",
      "execution_count": null,
      "metadata": {
        "id": "BEKN5U9lFcmz"
      },
      "outputs": [],
      "source": [
        "! sudo CUDA_VISIBLE_DEVICES=\"0\" python2 product-nets-distributed/pnn/tf_main.py --distributed=False --num_gpus=1 --dataset=ipinyou --model=lr --batch_size=1000 --optimizer=gd --learning_rate=1e-0 --embed_size=10 --nn_layers=\"[[\\\"full\\\", 200], [\\\"act\\\", \\\"tanh\\\"], [\\\"full\\\", 300], [\\\"act\\\", \\\"tanh\\\"], [\\\"full\\\", 100], [\\\"act\\\", \\\"tanh\\\"], [\\\"full\\\", 1]]\" --num_rounds=80"
      ]
    },
    {
      "cell_type": "code",
      "execution_count": null,
      "metadata": {
        "id": "hn5eqPRlJFgq"
      },
      "outputs": [],
      "source": [
        "! sudo CUDA_VISIBLE_DEVICES=\"0\" python2 product-nets-distributed/pnn/tf_main.py --distributed=False --num_gpus=1 --dataset=ipinyou --model=fm --batch_size=1000 --optimizer=gd --learning_rate=1e-0 --embed_size=10 --nn_layers=\"[[\\\"full\\\", 200], [\\\"act\\\", \\\"tanh\\\"], [\\\"full\\\", 300], [\\\"act\\\", \\\"tanh\\\"], [\\\"full\\\", 100], [\\\"act\\\", \\\"tanh\\\"], [\\\"full\\\", 1]]\" --num_rounds=80"
      ]
    },
    {
      "cell_type": "code",
      "source": [
        "! sudo CUDA_VISIBLE_DEVICES=\"0\" python2 product-nets-distributed/pnn/tf_main.py --distributed=False --num_gpus=1 --dataset=ipinyou --model=fnn --batch_size=1000 --optimizer=gd --learning_rate=1e-0 --embed_size=10 --nn_layers=\"[[\\\"full\\\", 200], [\\\"act\\\", \\\"tanh\\\"], [\\\"full\\\", 300], [\\\"act\\\", \\\"tanh\\\"], [\\\"full\\\", 100], [\\\"act\\\", \\\"tanh\\\"], [\\\"full\\\", 1]]\" --num_rounds=80"
      ],
      "metadata": {
        "id": "pnfhIluUtogp"
      },
      "execution_count": null,
      "outputs": []
    },
    {
      "cell_type": "markdown",
      "source": [
        "If you would like to change the data path or the advertiser name, you can do it in the deep-ctr/python/SNN_DAE.py file. In the line 27 you can change the advertiser, in the line 40, you have to change the x_dim variable to the amount of the features of the different dataset (features in the featindex.txt + 1). The data path could be changed in the line 30 and 31."
      ],
      "metadata": {
        "id": "5Z_V-TN6d_JT"
      }
    },
    {
      "cell_type": "code",
      "source": [
        "! python2 deep-ctr/python/SNN_DAE.py"
      ],
      "metadata": {
        "id": "kVlTbIlrBxnx",
        "colab": {
          "base_uri": "https://localhost:8080/"
        },
        "outputId": "da4a77d7-b0e3-4995-bcfc-41cb548d7262"
      },
      "execution_count": null,
      "outputs": [
        {
          "output_type": "stream",
          "name": "stdout",
          "text": [
            "/content/product-nets-distributed/pnn/1458/raw/train.txt\n",
            "Traceback (most recent call last):\n",
            "  File \"deep-ctr/python/SNN_DAE.py\", line 37, in <module>\n",
            "    train_size=ut.file_len(train_file)                    #training size\n",
            "  File \"/content/deep-ctr/python/dl_utils.py\", line 104, in file_len\n",
            "    with open(fname) as f:\n",
            "IOError: [Errno 2] No such file or directory: '/content/product-nets-distributed/pnn/1458/raw/train.txt'\n"
          ]
        }
      ]
    },
    {
      "cell_type": "markdown",
      "source": [
        "You have to set the variables with the same name as in the SNN_DAE.py in order to use the script with another advertiser."
      ],
      "metadata": {
        "id": "SjXEIsz7fvw8"
      }
    },
    {
      "cell_type": "code",
      "source": [
        "! python2 deep-ctr/python/SNN_RBM.py"
      ],
      "metadata": {
        "id": "xH6cluCee_wr"
      },
      "execution_count": null,
      "outputs": []
    }
  ],
  "metadata": {
    "colab": {
      "collapsed_sections": [],
      "name": "Experimental_EX2.ipynb",
      "provenance": []
    },
    "kernelspec": {
      "display_name": "Python 3",
      "name": "python3"
    },
    "language_info": {
      "name": "python"
    }
  },
  "nbformat": 4,
  "nbformat_minor": 0
}